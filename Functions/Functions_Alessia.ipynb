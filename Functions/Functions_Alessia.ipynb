{
 "cells": [
  {
   "cell_type": "code",
   "execution_count": null,
   "id": "3275e1b9-f406-4cae-93fb-c5a6a6357fb5",
   "metadata": {},
   "outputs": [],
   "source": [
    "# Function to calculate completion time\n",
    "def calculate_completion_times(df, max_time_hours=1):\n",
    "\n",
    "     # Ensure date_time is in datetime format\n",
    "    df['date_time'] = pd.to_datetime(df['date_time'], errors='coerce')\n",
    "\n",
    "    # Drop rows where date_time could not be converted\n",
    "    df = df.dropna(subset=['date_time'])\n",
    "    # Sort by client_id, visit_id, and date_time\n",
    "    df = df.sort_values(by=['client_id', 'visit_id', 'date_time'])\n",
    "\n",
    "    # Calculate time spent between steps\n",
    "    df['time_spent'] = df.groupby(['client_id', 'visit_id'])['date_time'].diff()\n",
    "\n",
    "    # Remove rows with NaT in 'time_spent'\n",
    "    df = df.dropna(subset=['time_spent'])\n",
    "\n",
    "    # Extract the last 'start' and 'confirm' times for each client\n",
    "    df_last_start = df[df['process_step'] == 'start'].groupby(['client_id', 'visit_id']).last().reset_index()\n",
    "    df_last_confirm = df[df['process_step'] == 'confirm'].groupby(['client_id', 'visit_id']).last().reset_index()\n",
    "\n",
    "    # Merge to get both 'start' and 'confirm' times\n",
    "    df_merged = pd.merge(df_last_start[['client_id', 'visit_id', 'date_time']],\n",
    "                         df_last_confirm[['client_id', 'visit_id', 'date_time']],\n",
    "                         on=['client_id', 'visit_id'], suffixes=('_start', '_confirm'))\n",
    "\n",
    "    # Calculate the time to conversion in seconds\n",
    "    df_merged['completion_time_seconds'] = (df_merged['date_time_confirm'] - df_merged['date_time_start']).dt.total_seconds()\n",
    "\n",
    "    # Filter out times exceeding max_time_hours\n",
    "    df_filtered_times = df_merged[df_merged['completion_time_seconds'] <= max_time_hours * 3600]\n",
    "\n",
    "    # Return completion times in minutes\n",
    "    return df_filtered_times['completion_time_seconds'] / 60"
   ]
  },
  {
   "cell_type": "code",
   "execution_count": null,
   "id": "1783f665-4476-446a-8d68-1ee432b3470a",
   "metadata": {},
   "outputs": [],
   "source": [
    "# Function to calculate error rate (proportion of clients who revisited a previous step)\n",
    "def calculate_error_data(df):\n",
    "    # Create a DataFrame with steps and their occurrence order for each client\n",
    "    steps_df = df[['client_id', 'process_step']].copy()\n",
    "    steps_df['step_order'] = steps_df.groupby('client_id').cumcount()\n",
    "\n",
    "    # Merge the steps DataFrame with itself to find revisits\n",
    "    merged = pd.merge(steps_df, steps_df, on='client_id', suffixes=('_first', '_second'))\n",
    "    revisits = merged[(merged['step_order_second'] < merged['step_order_first']) & (merged['process_step_first'] == merged['process_step_second'])]\n",
    "\n",
    "    # Count unique clients with any revisit\n",
    "    clients_with_revisits = revisits['client_id'].unique()\n",
    "    total_clients = df['client_id'].nunique()\n",
    "\n",
    "    # Return the error count and total client count\n",
    "    return len(clients_with_revisits), total_clients"
   ]
  },
  {
   "cell_type": "code",
   "execution_count": null,
   "id": "4ef8481b-bbe8-4519-a66b-3f80ca821a15",
   "metadata": {},
   "outputs": [],
   "source": [
    "# Function to calculate Group completion times by age group\n",
    "def group_completion_times_by_age(df):\n",
    "    grouped = df.groupby('age_group', observed=True)\n",
    "    results = {}\n",
    "    for name, group in grouped:\n",
    "        results[name] = calculate_completion_times(group).values\n",
    "    return results\n",
    "\n",
    "# Calculate completion times for both test and control groups\n",
    "test_age_groups = group_completion_times_by_age(test_df)\n",
    "control_age_groups = group_completion_times_by_age(control_df)"
   ]
  },
  {
   "cell_type": "code",
   "execution_count": null,
   "id": "439e2584-cfaa-49c2-8b5b-b01ed9accd3f",
   "metadata": {},
   "outputs": [],
   "source": [
    "#Function for Anova testing\n",
    "def perform_anova(data):\n",
    "    return f_oneway(*data.values())\n",
    "\n",
    "anova_test_results = perform_anova(test_age_groups)\n",
    "anova_control_results = perform_anova(control_age_groups)\n",
    "\n",
    "print(\"ANOVA Results for Test Group:\")\n",
    "print(f\"F-statistic: {anova_test_results.statistic:.4f}, P-value: {anova_test_results.pvalue:.4f}\")\n",
    "\n",
    "if anova_test_results.pvalue < 0.05:\n",
    "    print(\"There is a significant difference in completion times across age groups in the Test group.\")\n",
    "else:\n",
    "    print(\"There is no significant difference in completion times across age groups in the Test group.\")"
   ]
  }
 ],
 "metadata": {
  "kernelspec": {
   "display_name": "Python 3 (ipykernel)",
   "language": "python",
   "name": "python3"
  },
  "language_info": {
   "codemirror_mode": {
    "name": "ipython",
    "version": 3
   },
   "file_extension": ".py",
   "mimetype": "text/x-python",
   "name": "python",
   "nbconvert_exporter": "python",
   "pygments_lexer": "ipython3",
   "version": "3.12.4"
  }
 },
 "nbformat": 4,
 "nbformat_minor": 5
}
